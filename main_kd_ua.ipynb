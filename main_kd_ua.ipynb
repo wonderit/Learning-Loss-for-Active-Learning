{
 "cells": [
  {
   "cell_type": "markdown",
   "metadata": {
    "id": "JVhRqu6hEO9N"
   },
   "source": [
    "Active Learning Procedure in PyTorch.\n",
    "\n",
    "Reference:\n",
    "[Yoo et al. 2019] Learning Loss for Active Learning (https://arxiv.org/abs/1905.03677)\n",
    "'''"
   ]
  },
  {
   "cell_type": "markdown",
   "metadata": {
    "id": "XDHfgfKlEO9O",
    "pycharm": {
     "name": "#%% md\n"
    }
   },
   "source": [
    "Install Neptune"
   ]
  },
  {
   "cell_type": "code",
   "execution_count": 1,
   "metadata": {
    "colab": {
     "base_uri": "https://localhost:8080/"
    },
    "id": "Q8pyk-HnEO9O",
    "outputId": "e7d11b05-019b-4c4f-cd14-7a60b6adcce6",
    "pycharm": {
     "name": "#%%\n"
    }
   },
   "outputs": [],
   "source": [
    "#!pip install -q neptune-client==0.9.9 numpy==1.19.2 torch==1.8.1 torchvision==0.9.1 folium==0.2.1"
   ]
  },
  {
   "cell_type": "markdown",
   "metadata": {
    "id": "jpo1Cf7FEO9P"
   },
   "source": [
    "Install libraries"
   ]
  },
  {
   "cell_type": "code",
   "execution_count": 2,
   "metadata": {
    "id": "WwDlj8IYEO9P",
    "pycharm": {
     "name": "#%%\n"
    }
   },
   "outputs": [
    {
     "name": "stderr",
     "output_type": "stream",
     "text": [
      "C:\\Users\\user\\Anaconda3\\envs\\maxwellfdfd-ai\\lib\\site-packages\\numpy\\_distributor_init.py:32: UserWarning: loaded more than 1 DLL from .libs:\n",
      "C:\\Users\\user\\Anaconda3\\envs\\maxwellfdfd-ai\\lib\\site-packages\\numpy\\.libs\\libopenblas.NOIJJG62EMASZI6NYURL6JBKM4EVBGM7.gfortran-win_amd64.dll\n",
      "C:\\Users\\user\\Anaconda3\\envs\\maxwellfdfd-ai\\lib\\site-packages\\numpy\\.libs\\libopenblas.PYQHXLVVQ7VESDPUVUADXEVJOBGHJPAY.gfortran-win_amd64.dll\n",
      "  stacklevel=1)\n"
     ]
    }
   ],
   "source": [
    "# Python\n",
    "import os\n",
    "import random\n",
    "\n",
    "# Torch\n",
    "import torch\n",
    "import numpy as np\n",
    "import torch.nn as nn\n",
    "import torch.optim as optim\n",
    "from torch.utils.data import DataLoader\n",
    "import torch.optim.lr_scheduler as lr_scheduler\n",
    "from torch.utils.data.sampler import SubsetRandomSampler\n",
    "\n",
    "# Torchvison\n",
    "import torchvision.transforms as T\n",
    "import torch.nn.functional as F\n",
    "from torchvision.datasets import CIFAR100, CIFAR10\n",
    "\n",
    "# Utils\n",
    "from tqdm import tqdm\n",
    "\n",
    "# Custom\n",
    "import models.resnet as resnet\n",
    "import models.lossnet as lossnet\n",
    "from data.sampler import SubsetSequentialSampler\n",
    "\n",
    "import neptune.new as neptune"
   ]
  },
  {
   "cell_type": "markdown",
   "metadata": {
    "id": "sgkP1w2HEO9P",
    "pycharm": {
     "name": "#%% md\n"
    }
   },
   "source": [
    "Create Neptune Run"
   ]
  },
  {
   "cell_type": "code",
   "execution_count": 3,
   "metadata": {
    "colab": {
     "base_uri": "https://localhost:8080/"
    },
    "id": "dMxWdY9pEO9Q",
    "outputId": "0c0caab2-d6d2-4968-9ee3-8016505ec8bf",
    "pycharm": {
     "name": "#%%\n"
    }
   },
   "outputs": [
    {
     "name": "stderr",
     "output_type": "stream",
     "text": [
      "psutil is not installed. Hardware metrics will not be collected.\n"
     ]
    },
    {
     "name": "stdout",
     "output_type": "stream",
     "text": [
      "https://app.neptune.ai/wonderit/ll4al/e/LLAL-28\r\n"
     ]
    }
   ],
   "source": [
    "run = neptune.init(project='wonderit/ll4al',\n",
    "                   tags='cifar10',\n",
    "                   api_token='eyJhcGlfYWRkcmVzcyI6Imh0dHBzOi8vYXBwLm5lcHR1bmUuYWkiLCJhcGlfdXJsIjoiaHR0cHM6Ly9hcHAubmVwdHVuZS5haSIsImFwaV9rZXkiOiI2ZmY3ZjczOC0wYWM2LTQzZGItOTNkZi02Y2Y3ZjkxMDZhZTgifQ==')"
   ]
  },
  {
   "cell_type": "code",
   "execution_count": 4,
   "metadata": {
    "id": "yYxWK7LiEO9Q",
    "pycharm": {
     "name": "#%%\n"
    }
   },
   "outputs": [],
   "source": [
    "# Params\n",
    "PARAMS = {\n",
    "    'num_train': 50000,\n",
    "    'num_val': 0,\n",
    "    'batch_size': 128,\n",
    "    'subset_size': 10000,\n",
    "    'k': 100,\n",
    "    'margin': 1.0,\n",
    "    'lpl_lambda': 1.0,\n",
    "    'trials': 1,\n",
    "    'cycles': 5,\n",
    "    'epoch': 200,\n",
    "    'lr': 0.1,\n",
    "    'milestones': [160],\n",
    "    'epoch_l': 120,\n",
    "    'sgd_momentum': 0.9,\n",
    "    'weight_decay': 5e-4,\n",
    "    'device': torch.device(\"cuda:0\" if torch.cuda.is_available() else \"cpu\"),\n",
    "    'kd_type': 'soft_target',\n",
    "    'is_kd': True,\n",
    "    'T': 4,\n",
    "    'kd_lambda': 0.1,\n",
    "    'is_ua': True,\n",
    "    'ua_lambda': 0.1,\n",
    "    'ua_activation': 'relu', # linear\n",
    "    'beta': 1.0,\n",
    "    'ua_type': 'entropy',  # loss_prediction, cross_entropy\n",
    "    're-init-backbone': False,\n",
    "    're-init-module': False\n",
    "}"
   ]
  },
  {
   "cell_type": "code",
   "execution_count": 5,
   "metadata": {
    "id": "IpjOxJ08GGEY"
   },
   "outputs": [],
   "source": [
    "run['config/hyperparameters'] = PARAMS"
   ]
  },
  {
   "cell_type": "code",
   "execution_count": null,
   "metadata": {
    "colab": {
     "base_uri": "https://localhost:8080/"
    },
    "id": "o2DvupwIEO9R",
    "outputId": "3dad53d6-60c3-4c35-e364-3eef16570ed2",
    "pycharm": {
     "name": "#%%\n"
    }
   },
   "outputs": [],
   "source": []
  },
  {
   "cell_type": "code",
   "execution_count": 6,
   "metadata": {
    "id": "Hade1c64GJr3"
   },
   "outputs": [
    {
     "name": "stdout",
     "output_type": "stream",
     "text": [
      "Files already downloaded and verified\n",
      "Files already downloaded and verified\n",
      "Files already downloaded and verified\n"
     ]
    }
   ],
   "source": [
    "# Seed\n",
    "random_seed = 425\n",
    "random.seed(random_seed)\n",
    "torch.manual_seed(random_seed)\n",
    "torch.cuda.manual_seed(random_seed)\n",
    "torch.cuda.manual_seed_all(random_seed)\n",
    "torch.backends.cudnn.deterministic = True\n",
    "torch.backends.cudnn.benchmark = False\n",
    "np.random.seed(random_seed)\n",
    "\n",
    "##\n",
    "# Data\n",
    "data_dir = 'data/CIFAR10'\n",
    "data_tfms = {\n",
    "    'train':\n",
    "            T.Compose([\n",
    "            T.RandomHorizontalFlip(),\n",
    "            T.RandomCrop(size=32, padding=4),\n",
    "            T.ToTensor(),\n",
    "            T.Normalize([0.4914, 0.4822, 0.4465], [0.2023, 0.1994, 0.2010]) # T.Normalize((0.5071, 0.4867, 0.4408), (0.2675, 0.2565, 0.2761)) # CIFAR-100\n",
    "        ]),\n",
    "    'test':\n",
    "            T.Compose([\n",
    "            T.ToTensor(),\n",
    "            T.Normalize([0.4914, 0.4822, 0.4465], [0.2023, 0.1994, 0.2010]) # T.Normalize((0.5071, 0.4867, 0.4408), (0.2675, 0.2565, 0.2761)) # CIFAR-100\n",
    "        ])\n",
    "\n",
    "}\n",
    "cifar10_train = CIFAR10(data_dir, train=True, download=True, transform=data_tfms['train'])\n",
    "cifar10_unlabeled   = CIFAR10(data_dir, train=True, download=True, transform=data_tfms['test'])\n",
    "cifar10_test  = CIFAR10(data_dir, train=False, download=True, transform=data_tfms['test'])\n",
    "dataset_size = {'train': len(cifar10_train), 'test': len(cifar10_test)}\n",
    "\n",
    "checkpoint_dir = os.path.join('./cifar10', 'train', 'weights')\n",
    "if not os.path.exists(checkpoint_dir):\n",
    "    os.makedirs(checkpoint_dir)"
   ]
  },
  {
   "cell_type": "code",
   "execution_count": 7,
   "metadata": {
    "colab": {
     "base_uri": "https://localhost:8080/"
    },
    "id": "_zTgO4tpEO9R",
    "outputId": "56b4516b-1751-4940-c670-bf7257004860",
    "pycharm": {
     "name": "#%%\n"
    }
   },
   "outputs": [],
   "source": [
    "run[\"config/dataset/path\"] = data_dir\n",
    "run[\"config/dataset/transforms\"] = data_tfms\n",
    "run[\"config/dataset/size\"] = dataset_size\n"
   ]
  },
  {
   "cell_type": "code",
   "execution_count": null,
   "metadata": {
    "id": "SOcqAkB5H3SD"
   },
   "outputs": [
    {
     "name": "stderr",
     "output_type": "stream",
     "text": [
      "C:\\Users\\user\\Anaconda3\\envs\\maxwellfdfd-ai\\lib\\site-packages\\torch\\optim\\lr_scheduler.py:134: UserWarning: Detected call of `lr_scheduler.step()` before `optimizer.step()`. In PyTorch 1.1.0 and later, you should call them in the opposite order: `optimizer.step()` before `lr_scheduler.step()`.  Failure to do this will result in PyTorch skipping the first value of the learning rate schedule. See more details at https://pytorch.org/docs/stable/optim.html#how-to-adjust-learning-rate\n",
      "  \"https://pytorch.org/docs/stable/optim.html#how-to-adjust-learning-rate\", UserWarning)\n",
      "\r",
      "  0%|                                                                                                                                                                                                                                                                                            | 0/1 [00:00<?, ?it/s]"
     ]
    },
    {
     "name": "stdout",
     "output_type": "stream",
     "text": [
      ">> Train a Model.\n"
     ]
    },
    {
     "name": "stderr",
     "output_type": "stream",
     "text": [
      "                                                                                                                                                                                                                                                                                                                       \r"
     ]
    }
   ],
   "source": [
    "##\n",
    "# Loss Prediction Loss\n",
    "def LossPredLoss(input, target, margin=1.0, reduction='mean'):\n",
    "    assert len(input) % 2 == 0, 'the batch size is not even.'\n",
    "    assert input.shape == input.flip(0).shape\n",
    "\n",
    "    input = (input - input.flip(0))[:len(input)//2] # [l_1 - l_2B, l_2 - l_2B-1, ... , l_B - l_B+1], where batch_size = 2B\n",
    "    target = (target - target.flip(0))[:len(target)//2]\n",
    "    target = target.detach()\n",
    "\n",
    "    one = 2 * torch.sign(torch.clamp(target, min=0)) - 1 # 1 operation which is defined by the authors\n",
    "\n",
    "    if reduction == 'mean':\n",
    "        loss = torch.sum(torch.clamp(margin - one * input, min=0))\n",
    "        loss = loss / input.size(0) # Note that the size of input is already halved\n",
    "    elif reduction == 'none':\n",
    "        loss = torch.clamp(margin - one * input, min=0)\n",
    "    else:\n",
    "        NotImplementedError()\n",
    "\n",
    "    return loss\n",
    "\n",
    "\n",
    "def SoftTarget(out_s, out_t):\n",
    "    loss = F.kl_div(F.log_softmax(out_s/PARAMS['T'], dim=1),\n",
    "                    F.softmax(out_t/PARAMS['T'], dim=1)\n",
    "                    ,reduction='batchmean') * PARAMS['T'] * PARAMS['T']\n",
    "    return loss\n",
    "\n",
    "def UncertaintyAttentionLoss(t_output, t_feature, models):\n",
    "\n",
    "    if PARAMS['ua_type'] == 'prediction_loss':\n",
    "        t_ua = models['teacher_module'](t_feature).mean()\n",
    "\n",
    "    else:\n",
    "        teacher_probs = F.softmax(t_output)\n",
    "        t_ua = torch.distributions.Categorical(teacher_probs).entropy().mean()\n",
    "\n",
    "    if PARAMS['ua_activation'] == 'sigmoid':\n",
    "        t_ua_norm = F.sigmoid(PARAMS['beta'] * t_ua)\n",
    "    elif PARAMS['ua_activation'] == 'relu':\n",
    "        t_ua_norm = F.relu(t_ua)\n",
    "    elif PARAMS['ua_activation'] == 'tanh':\n",
    "        t_ua_norm = F.tanh(t_ua)\n",
    "\n",
    "    return t_ua_norm, t_ua\n",
    "\n",
    "\n",
    "def ua_loss(outputs, labels, t_ua, beta, ua_lambda):\n",
    "    ua_attention = 1/(1 + torch.exp(- beta * t_ua))\n",
    "    log_softmax = torch.nn.LogSoftmax(dim=1)\n",
    "    x_log = log_softmax(outputs)\n",
    "    loss = (-x_log[range(labels.shape[0]), labels] * (1. + ua_lambda * ua_attention)).mean()\n",
    "    return loss\n",
    "\n",
    "##\n",
    "# Train Utils\n",
    "iters = 0\n",
    "\n",
    "#\n",
    "def train_epoch(models, criterion, optimizers, dataloaders, epoch, epoch_loss, cycle, trial):\n",
    "    models['backbone'].train()\n",
    "    models['module'].train()\n",
    "\n",
    "    # load teacher model\n",
    "    if PARAMS['is_kd'] and cycle > 0:\n",
    "        prev_cycle = cycle - 1\n",
    "        teacher_model_path =f'{checkpoint_dir}/teacher_model_cycle{prev_cycle}.pth'\n",
    "        models['teacher_backbone'] = resnet.ResNet18(num_classes=10)\n",
    "        checkpoint = torch.load(teacher_model_path)\n",
    "        models['teacher_backbone'].load_state_dict(checkpoint['state_dict_backbone'])\n",
    "        models['teacher_backbone'].to(PARAMS['device'])\n",
    "        models['teacher_backbone'].eval()\n",
    "        models['teacher_backbone'].train(mode=False)\n",
    "        models['have_teacher'] = True\n",
    "        if PARAMS['is_ua']:\n",
    "            models['teacher_module'] = lossnet.LossNet()\n",
    "            models['teacher_module'].load_state_dict(checkpoint['state_dict_module'])\n",
    "            models['teacher_module'].to(PARAMS['device'])\n",
    "            models['teacher_module'].eval()\n",
    "            models['teacher_module'].train(mode=False)\n",
    "\n",
    "    global iters\n",
    "\n",
    "    for data in tqdm(dataloaders['train'], leave=False, total=len(dataloaders['train'])):\n",
    "        inputs = data[0].to(PARAMS['device'])\n",
    "        labels = data[1].to(PARAMS['device'])\n",
    "        iters += 1\n",
    "\n",
    "        optimizers['backbone'].zero_grad()\n",
    "        optimizers['module'].zero_grad()\n",
    "\n",
    "        scores, features = models['backbone'](inputs)\n",
    "        target_loss = criterion(scores, labels)\n",
    "\n",
    "        if epoch > epoch_loss:\n",
    "            # After 120 epochs, stop the gradient from the loss prediction module propagated to the target model.\n",
    "            features[0] = features[0].detach()\n",
    "            features[1] = features[1].detach()\n",
    "            features[2] = features[2].detach()\n",
    "            features[3] = features[3].detach()\n",
    "        pred_loss = models['module'](features)\n",
    "        pred_loss = pred_loss.view(pred_loss.size(0))\n",
    "\n",
    "        m_backbone_loss = torch.sum(target_loss) / target_loss.size(0)\n",
    "        m_module_loss   = LossPredLoss(pred_loss, target_loss, margin=PARAMS['margin'])\n",
    "        loss            = m_backbone_loss + PARAMS['lpl_lambda'] * m_module_loss\n",
    "\n",
    "        if models['have_teacher']:\n",
    "            teacher_outputs, teacher_feature = models['teacher_backbone'](inputs)\n",
    "            kd_loss = SoftTarget(scores, teacher_outputs)\n",
    "            run[f'train/trial{trial}/cycle{cycle}/batch/kd_loss({PARAMS[\"kd_type\"]})'].log(kd_loss.item())\n",
    "            loss = loss + PARAMS['kd_lambda'] * kd_loss\n",
    "\n",
    "            if PARAMS['is_ua']:\n",
    "                teacher_uncertainty_normalized, teacher_uncertainty = UncertaintyAttentionLoss(teacher_outputs, teacher_feature, models)\n",
    "                loss = loss + PARAMS['ua_lambda'] * m_backbone_loss * teacher_uncertainty_normalized\n",
    "                run[f'train/trial{trial}/cycle{cycle}/batch/t_ua_{PARAMS[\"ua_type\"]}'].log(teacher_uncertainty)\n",
    "                run[f'train/trial{trial}/cycle{cycle}/batch/t_ua_norm({PARAMS[\"ua_type\"]}-b{PARAMS[\"beta\"]})'].log(teacher_uncertainty_normalized)\n",
    "\n",
    "        loss.backward()\n",
    "        optimizers['backbone'].step()\n",
    "        optimizers['module'].step()\n",
    "\n",
    "        run[f'train/trial{trial}/cycle{cycle}/batch/backbone_loss'].log(m_backbone_loss.item())\n",
    "        run[f'train/trial{trial}/cycle{cycle}/batch/module_loss'].log(m_module_loss.item())\n",
    "        run[f'train/trial{trial}/cycle{cycle}/batch/total_loss'].log(loss.item())\n",
    "\n",
    "\n",
    "#\n",
    "def test(models, dataloaders, mode='val'):\n",
    "    assert mode == 'val' or mode == 'test'\n",
    "    models['backbone'].eval()\n",
    "    models['module'].eval()\n",
    "\n",
    "    total = 0\n",
    "    correct = 0\n",
    "    with torch.no_grad():\n",
    "        for (inputs, labels) in dataloaders[mode]:\n",
    "            inputs = inputs.to(PARAMS['device'])\n",
    "            labels = labels.to(PARAMS['device'])\n",
    "\n",
    "            scores, _ = models['backbone'](inputs)\n",
    "            _, preds = torch.max(scores.data, 1)\n",
    "            total += labels.size(0)\n",
    "            correct += (preds == labels).sum().item()\n",
    "\n",
    "    return 100 * correct / total\n",
    "\n",
    "#\n",
    "def train(models, criterion, optimizers, schedulers, dataloaders, num_epochs, epoch_loss, cycle_number, trial_number):\n",
    "    print('>> Train a Model.')\n",
    "    best_acc = 0.\n",
    "\n",
    "    for epoch in range(num_epochs):\n",
    "        schedulers['backbone'].step()\n",
    "        schedulers['module'].step()\n",
    "\n",
    "        train_epoch(models, criterion, optimizers, dataloaders, epoch, epoch_loss, cycle_number, trial_number)\n",
    "\n",
    "        # Save a checkpoint\n",
    "        if PARAMS['is_kd'] and epoch % 5 == 4:\n",
    "            acc = test(models, dataloaders, 'test')\n",
    "            if best_acc < acc:\n",
    "                best_acc = acc\n",
    "                torch.save({\n",
    "                    'epoch': epoch + 1,\n",
    "                    'state_dict_backbone': models['backbone'].state_dict(),\n",
    "                    'state_dict_module': models['module'].state_dict()\n",
    "                },\n",
    "                f'{checkpoint_dir}/teacher_model_cycle{cycle_number}.pth')\n",
    "            print('Val Acc: {:.3f} \\t Best Acc: {:.3f}'.format(acc, best_acc))\n",
    "\n",
    "    print('>> Finished.')\n",
    "\n",
    "#\n",
    "def get_uncertainty(models, unlabeled_loader):\n",
    "    models['backbone'].eval()\n",
    "    models['module'].eval()\n",
    "    uncertainty = torch.tensor([]).to(PARAMS['device'])\n",
    "\n",
    "    with torch.no_grad():\n",
    "        for (inputs, labels) in unlabeled_loader:\n",
    "            inputs = inputs.to(PARAMS['device'])\n",
    "            # labels = labels.to(device)\n",
    "\n",
    "            scores, features = models['backbone'](inputs)\n",
    "            pred_loss = models['module'](features) # pred_loss = criterion(scores, labels) # ground truth loss\n",
    "            pred_loss = pred_loss.view(pred_loss.size(0))\n",
    "\n",
    "            uncertainty = torch.cat((uncertainty, pred_loss), 0)\n",
    "\n",
    "    return uncertainty.cpu()\n",
    "\n",
    "vis = None\n",
    "##\n",
    "# Main\n",
    "if __name__ == '__main__':\n",
    "    # vis = visdom.Visdom(server='http://localhost', port=9000)\n",
    "    # plot_data = {'X': [], 'Y': [], 'legend': ['Backbone Loss', 'Module Loss', 'Total Loss']}\n",
    "\n",
    "    for trial in range(PARAMS['trials']):\n",
    "        # Initialize a labeled dataset by randomly sampling K=ADDENDUM=1,000 data points from the entire dataset.\n",
    "        indices = list(range(PARAMS['num_train']))\n",
    "        random.shuffle(indices)\n",
    "        labeled_set = indices[:PARAMS['k']]\n",
    "        unlabeled_set = indices[PARAMS['k']:]\n",
    "\n",
    "        train_loader = DataLoader(cifar10_train, batch_size=PARAMS['batch_size'],\n",
    "                                  sampler=SubsetRandomSampler(labeled_set),\n",
    "                                  pin_memory=True)\n",
    "        test_loader  = DataLoader(cifar10_test, batch_size=PARAMS['batch_size'])\n",
    "        dataloaders  = {'train': train_loader, 'test': test_loader}\n",
    "\n",
    "        # Model\n",
    "        resnet18    = resnet.ResNet18(num_classes=10).to(PARAMS['device'])\n",
    "        loss_module = lossnet.LossNet().to(PARAMS['device'])\n",
    "        models      = {'backbone': resnet18, 'module': loss_module}\n",
    "\n",
    "        # Add Teacher for KD\n",
    "        if PARAMS['is_kd']:\n",
    "            models['teacher_backbone'] = None\n",
    "            models['teacher_module'] = None\n",
    "            models['have_teacher'] = False\n",
    "\n",
    "        torch.backends.cudnn.benchmark = False\n",
    "\n",
    "        # Active learning cycles\n",
    "        for cycle in range(PARAMS['cycles']):\n",
    "            # Re init model\n",
    "            if PARAMS['re-init-backbone'] and cycle > 0:\n",
    "                resnet18    = resnet.ResNet18(num_classes=10).to(PARAMS['device'])\n",
    "                models['backbone'] = resnet18\n",
    "\n",
    "            if PARAMS['re-init-module'] and cycle > 0:\n",
    "                loss_module = lossnet.LossNet().to(PARAMS['device'])\n",
    "                models['module'] = loss_module\n",
    "\n",
    "            # Loss, criterion and scheduler (re)initialization\n",
    "            criterion      = nn.CrossEntropyLoss(reduction='none')\n",
    "            optim_backbone = optim.SGD(models['backbone'].parameters(), lr=PARAMS['lr'],\n",
    "                                    momentum=PARAMS['sgd_momentum'], weight_decay=PARAMS['weight_decay'])\n",
    "            optim_module   = optim.SGD(models['module'].parameters(), lr=PARAMS['lr'],\n",
    "                                    momentum=PARAMS['sgd_momentum'], weight_decay=PARAMS['weight_decay'])\n",
    "            sched_backbone = lr_scheduler.MultiStepLR(optim_backbone, milestones=PARAMS['milestones'])\n",
    "            sched_module   = lr_scheduler.MultiStepLR(optim_module, milestones=PARAMS['milestones'])\n",
    "\n",
    "            optimizers = {'backbone': optim_backbone, 'module': optim_module}\n",
    "            schedulers = {'backbone': sched_backbone, 'module': sched_module}\n",
    "\n",
    "            # Training and test\n",
    "            train(models, criterion, optimizers, schedulers, dataloaders, PARAMS['epoch'], PARAMS['epoch_l'], cycle, trial)\n",
    "            acc = test(models, dataloaders, mode='test')\n",
    "            print('Trial {}/{} || Cycle {}/{} || Label set size {}: Test acc {}'.format(trial+1, PARAMS['trials'], cycle+1, PARAMS['cycles'], len(labeled_set), acc))\n",
    "\n",
    "            # Log acc\n",
    "            run[f'test/trial_{trial}/acc'].log(acc)\n",
    "            ##\n",
    "            #  Update the labeled dataset via loss prediction-based uncertainty measurement\n",
    "\n",
    "            # Randomly sample 10000 unlabeled data points\n",
    "            random.shuffle(unlabeled_set)\n",
    "            subset = unlabeled_set[:PARAMS['subset_size']]\n",
    "\n",
    "            # Create unlabeled dataloader for the unlabeled subset\n",
    "            unlabeled_loader = DataLoader(cifar10_unlabeled, batch_size=PARAMS['batch_size'],\n",
    "                                          sampler=SubsetSequentialSampler(subset), # more convenient if we maintain the order of subset\n",
    "                                          pin_memory=True)\n",
    "\n",
    "            # Measure uncertainty of each data points in the subset\n",
    "            uncertainty = get_uncertainty(models, unlabeled_loader)\n",
    "\n",
    "\n",
    "            # Index in ascending order\n",
    "            arg = np.argsort(uncertainty)\n",
    "\n",
    "            # Update the labeled dataset and the unlabeled dataset, respectively\n",
    "            labeled_set += list(torch.tensor(subset)[arg][-PARAMS['k']:].numpy())\n",
    "            unlabeled_set = list(torch.tensor(subset)[arg][:-PARAMS['k']].numpy()) + unlabeled_set[PARAMS['subset_size']:]\n",
    "\n",
    "            # Create a new dataloader for the updated labeled dataset\n",
    "            dataloaders['train'] = DataLoader(cifar10_train, batch_size=PARAMS['batch_size'],\n",
    "                                              sampler=SubsetRandomSampler(labeled_set),\n",
    "                                              pin_memory=True)\n",
    "\n",
    "        # Save a checkpoint\n",
    "        torch.save({\n",
    "                    'trial': trial + 1,\n",
    "                    'state_dict_backbone': models['backbone'].state_dict(),\n",
    "                    'state_dict_module': models['module'].state_dict()\n",
    "                },\n",
    "                './cifar10/train/weights/active_resnet18_cifar10_trial{}.pth'.format(trial))"
   ]
  },
  {
   "cell_type": "code",
   "execution_count": null,
   "metadata": {},
   "outputs": [],
   "source": [
    "run.stop()"
   ]
  }
 ],
 "metadata": {
  "accelerator": "GPU",
  "anaconda-cloud": {},
  "colab": {
   "collapsed_sections": [],
   "name": "main.ipynb",
   "provenance": []
  },
  "kernelspec": {
   "display_name": "Python 3",
   "language": "python",
   "name": "python3"
  },
  "language_info": {
   "codemirror_mode": {
    "name": "ipython",
    "version": 3
   },
   "file_extension": ".py",
   "mimetype": "text/x-python",
   "name": "python",
   "nbconvert_exporter": "python",
   "pygments_lexer": "ipython3",
   "version": "3.7.7"
  }
 },
 "nbformat": 4,
 "nbformat_minor": 1
}